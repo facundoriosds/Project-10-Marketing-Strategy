{
 "cells": [
  {
   "cell_type": "markdown",
   "id": "3aa01aaa-1feb-432d-a701-bce4981f2c2d",
   "metadata": {
    "tags": []
   },
   "source": [
    "## Project 10 Part 1 - Marketing Strategy"
   ]
  },
  {
   "cell_type": "markdown",
   "id": "7e8ea398-5d2a-46ac-b888-f94b9308b73c",
   "metadata": {
    "tags": []
   },
   "source": [
    "### Notebook Content\n",
    "\n",
    "1. Exploratory Data Analysis\n",
    "2. Data Preparation"
   ]
  },
  {
   "cell_type": "markdown",
   "id": "81e14305-8739-4731-9787-26fbea04a74d",
   "metadata": {
    "tags": []
   },
   "source": [
    "## 1. Exploratory Data Analysis \n",
    "---\n",
    "\n"
   ]
  },
  {
   "cell_type": "code",
   "execution_count": 1,
   "id": "98cb63e4-2de8-4c15-bdb0-932c57d02fcf",
   "metadata": {},
   "outputs": [],
   "source": [
    "import numpy as np\n",
    "import pandas as pd\n",
    "import matplotlib.pyplot as plt\n",
    "import seaborn as sns"
   ]
  },
  {
   "cell_type": "code",
   "execution_count": 2,
   "id": "4eb29e85-cc77-4026-9a24-9e1926bd9cbd",
   "metadata": {},
   "outputs": [],
   "source": [
    "# (from P8)\n",
    "import scipy.stats as stats\n",
    "from feature_engine import imputation as mdi        \n",
    "from feature_engine import discretisation as dsc\n",
    "from feature_engine import encoding as ce\n",
    "from feature_engine.outliers import OutlierTrimmer"
   ]
  },
  {
   "cell_type": "code",
   "execution_count": 3,
   "id": "2151f036-c41c-4ae4-98db-1e3057b3652c",
   "metadata": {},
   "outputs": [],
   "source": [
    "# (From P9)\n",
    "from feature_engine.selection import (DropCorrelatedFeatures, SmartCorrelatedSelection, DropConstantFeatures) \n",
    "from feature_engine.selection import (DropDuplicateFeatures, SmartCorrelatedSelection, RecursiveFeatureAddition)"
   ]
  },
  {
   "cell_type": "code",
   "execution_count": 4,
   "id": "5a5fe644-90e4-4b77-80af-921aebbcd4cf",
   "metadata": {},
   "outputs": [],
   "source": [
    "data = pd.read_csv(\"dataset/bank.csv\")"
   ]
  },
  {
   "cell_type": "code",
   "execution_count": 26,
   "id": "ea6743c0-0149-4a97-972b-63b7ed7011d8",
   "metadata": {},
   "outputs": [
    {
     "data": {
      "text/html": [
       "<div>\n",
       "<style scoped>\n",
       "    .dataframe tbody tr th:only-of-type {\n",
       "        vertical-align: middle;\n",
       "    }\n",
       "\n",
       "    .dataframe tbody tr th {\n",
       "        vertical-align: top;\n",
       "    }\n",
       "\n",
       "    .dataframe thead th {\n",
       "        text-align: right;\n",
       "    }\n",
       "</style>\n",
       "<table border=\"1\" class=\"dataframe\">\n",
       "  <thead>\n",
       "    <tr style=\"text-align: right;\">\n",
       "      <th></th>\n",
       "      <th>age</th>\n",
       "      <th>job</th>\n",
       "      <th>marital</th>\n",
       "      <th>education</th>\n",
       "      <th>default</th>\n",
       "      <th>balance</th>\n",
       "      <th>housing</th>\n",
       "      <th>loan</th>\n",
       "      <th>contact</th>\n",
       "      <th>day</th>\n",
       "      <th>month</th>\n",
       "      <th>duration</th>\n",
       "      <th>campaign</th>\n",
       "      <th>pdays</th>\n",
       "      <th>previous</th>\n",
       "      <th>poutcome</th>\n",
       "      <th>deposit</th>\n",
       "    </tr>\n",
       "  </thead>\n",
       "  <tbody>\n",
       "    <tr>\n",
       "      <th>0</th>\n",
       "      <td>59</td>\n",
       "      <td>admin.</td>\n",
       "      <td>married</td>\n",
       "      <td>secondary</td>\n",
       "      <td>no</td>\n",
       "      <td>2343</td>\n",
       "      <td>yes</td>\n",
       "      <td>no</td>\n",
       "      <td>unknown</td>\n",
       "      <td>5</td>\n",
       "      <td>may</td>\n",
       "      <td>1042</td>\n",
       "      <td>1</td>\n",
       "      <td>-1</td>\n",
       "      <td>0</td>\n",
       "      <td>unknown</td>\n",
       "      <td>yes</td>\n",
       "    </tr>\n",
       "    <tr>\n",
       "      <th>1</th>\n",
       "      <td>56</td>\n",
       "      <td>admin.</td>\n",
       "      <td>married</td>\n",
       "      <td>secondary</td>\n",
       "      <td>no</td>\n",
       "      <td>45</td>\n",
       "      <td>no</td>\n",
       "      <td>no</td>\n",
       "      <td>unknown</td>\n",
       "      <td>5</td>\n",
       "      <td>may</td>\n",
       "      <td>1467</td>\n",
       "      <td>1</td>\n",
       "      <td>-1</td>\n",
       "      <td>0</td>\n",
       "      <td>unknown</td>\n",
       "      <td>yes</td>\n",
       "    </tr>\n",
       "    <tr>\n",
       "      <th>2</th>\n",
       "      <td>41</td>\n",
       "      <td>technician</td>\n",
       "      <td>married</td>\n",
       "      <td>secondary</td>\n",
       "      <td>no</td>\n",
       "      <td>1270</td>\n",
       "      <td>yes</td>\n",
       "      <td>no</td>\n",
       "      <td>unknown</td>\n",
       "      <td>5</td>\n",
       "      <td>may</td>\n",
       "      <td>1389</td>\n",
       "      <td>1</td>\n",
       "      <td>-1</td>\n",
       "      <td>0</td>\n",
       "      <td>unknown</td>\n",
       "      <td>yes</td>\n",
       "    </tr>\n",
       "    <tr>\n",
       "      <th>3</th>\n",
       "      <td>55</td>\n",
       "      <td>services</td>\n",
       "      <td>married</td>\n",
       "      <td>secondary</td>\n",
       "      <td>no</td>\n",
       "      <td>2476</td>\n",
       "      <td>yes</td>\n",
       "      <td>no</td>\n",
       "      <td>unknown</td>\n",
       "      <td>5</td>\n",
       "      <td>may</td>\n",
       "      <td>579</td>\n",
       "      <td>1</td>\n",
       "      <td>-1</td>\n",
       "      <td>0</td>\n",
       "      <td>unknown</td>\n",
       "      <td>yes</td>\n",
       "    </tr>\n",
       "    <tr>\n",
       "      <th>4</th>\n",
       "      <td>54</td>\n",
       "      <td>admin.</td>\n",
       "      <td>married</td>\n",
       "      <td>tertiary</td>\n",
       "      <td>no</td>\n",
       "      <td>184</td>\n",
       "      <td>no</td>\n",
       "      <td>no</td>\n",
       "      <td>unknown</td>\n",
       "      <td>5</td>\n",
       "      <td>may</td>\n",
       "      <td>673</td>\n",
       "      <td>2</td>\n",
       "      <td>-1</td>\n",
       "      <td>0</td>\n",
       "      <td>unknown</td>\n",
       "      <td>yes</td>\n",
       "    </tr>\n",
       "  </tbody>\n",
       "</table>\n",
       "</div>"
      ],
      "text/plain": [
       "   age         job  marital  education default  balance housing loan  contact  \\\n",
       "0  59   admin.      married  secondary  no      2343     yes     no   unknown   \n",
       "1  56   admin.      married  secondary  no      45       no      no   unknown   \n",
       "2  41   technician  married  secondary  no      1270     yes     no   unknown   \n",
       "3  55   services    married  secondary  no      2476     yes     no   unknown   \n",
       "4  54   admin.      married  tertiary   no      184      no      no   unknown   \n",
       "\n",
       "   day month  duration  campaign  pdays  previous poutcome deposit  \n",
       "0  5    may   1042      1        -1      0         unknown  yes     \n",
       "1  5    may   1467      1        -1      0         unknown  yes     \n",
       "2  5    may   1389      1        -1      0         unknown  yes     \n",
       "3  5    may   579       1        -1      0         unknown  yes     \n",
       "4  5    may   673       2        -1      0         unknown  yes     "
      ]
     },
     "execution_count": 26,
     "metadata": {},
     "output_type": "execute_result"
    }
   ],
   "source": [
    "data.head()"
   ]
  },
  {
   "cell_type": "code",
   "execution_count": 6,
   "id": "32b66957-ab51-4930-a261-6944d77e6ce3",
   "metadata": {},
   "outputs": [
    {
     "name": "stdout",
     "output_type": "stream",
     "text": [
      "<class 'pandas.core.frame.DataFrame'>\n",
      "RangeIndex: 11162 entries, 0 to 11161\n",
      "Data columns (total 17 columns):\n",
      " #   Column     Non-Null Count  Dtype \n",
      "---  ------     --------------  ----- \n",
      " 0   age        11162 non-null  int64 \n",
      " 1   job        11162 non-null  object\n",
      " 2   marital    11162 non-null  object\n",
      " 3   education  11162 non-null  object\n",
      " 4   default    11162 non-null  object\n",
      " 5   balance    11162 non-null  int64 \n",
      " 6   housing    11162 non-null  object\n",
      " 7   loan       11162 non-null  object\n",
      " 8   contact    11162 non-null  object\n",
      " 9   day        11162 non-null  int64 \n",
      " 10  month      11162 non-null  object\n",
      " 11  duration   11162 non-null  int64 \n",
      " 12  campaign   11162 non-null  int64 \n",
      " 13  pdays      11162 non-null  int64 \n",
      " 14  previous   11162 non-null  int64 \n",
      " 15  poutcome   11162 non-null  object\n",
      " 16  deposit    11162 non-null  object\n",
      "dtypes: int64(7), object(10)\n",
      "memory usage: 1.4+ MB\n"
     ]
    }
   ],
   "source": [
    "data.info()"
   ]
  },
  {
   "cell_type": "markdown",
   "id": "11ff3098-68fe-4d69-8af5-7571a6980273",
   "metadata": {},
   "source": [
    "There are no null values in the dataset."
   ]
  },
  {
   "cell_type": "markdown",
   "id": "b6e67317-510d-443f-8666-b0e19b9978e4",
   "metadata": {},
   "source": [
    "    Variables information:\n",
    "    \n",
    "    • client data:  \n",
    "    \n",
    "        1 - age  \n",
    "        2 - job: type of job   \n",
    "        3 - marital: marital status   \n",
    "        4 - education   \n",
    "        5 - default: has credit in default?   \n",
    "        6 - balance: average yearly balance, in euros  \n",
    "        7 - housing: has housing loan?   \n",
    "        8 - loan: has personal loan?  \n",
    "        \n",
    "    • related with the last contact of the current campaign:  \n",
    "    \n",
    "        9 - contact: contact communication type   \n",
    "        10 - day: last contact day of the month  \n",
    "        11 - month: last contact month of year  \n",
    "        12 - duration: last contact duration, in seconds  \n",
    "        \n",
    "    • other attributes:  \n",
    "    \n",
    "        13 - campaign: number of contacts performed during this campaign and for this client   \n",
    "        14 - pdays: number of days that passed by after the client was last contacted from a previous campaign  \n",
    "        15 - previous: number of contacts performed before this campaign and for this client  \n",
    "        16 - poutcome: outcome of the previous marketing campaign  \n",
    "\n",
    "        17 - has the client subscribed a term deposit? → Target  \n",
    "\n"
   ]
  },
  {
   "cell_type": "markdown",
   "id": "5c83d4cd-df46-46f4-9116-742a6625f7c6",
   "metadata": {},
   "source": [
    "Variable 'duration' will be droped (it is obtained after the call is made → if the target client has never received calls this feature is not that useful, and it also would be leaking information during the model training)"
   ]
  },
  {
   "cell_type": "code",
   "execution_count": 7,
   "id": "bb4d9764-f18a-40ea-96da-1ff884c387ca",
   "metadata": {},
   "outputs": [
    {
     "data": {
      "text/html": [
       "<div>\n",
       "<style scoped>\n",
       "    .dataframe tbody tr th:only-of-type {\n",
       "        vertical-align: middle;\n",
       "    }\n",
       "\n",
       "    .dataframe tbody tr th {\n",
       "        vertical-align: top;\n",
       "    }\n",
       "\n",
       "    .dataframe thead th {\n",
       "        text-align: right;\n",
       "    }\n",
       "</style>\n",
       "<table border=\"1\" class=\"dataframe\">\n",
       "  <thead>\n",
       "    <tr style=\"text-align: right;\">\n",
       "      <th></th>\n",
       "      <th>age</th>\n",
       "      <th>balance</th>\n",
       "      <th>day</th>\n",
       "      <th>duration</th>\n",
       "      <th>campaign</th>\n",
       "      <th>pdays</th>\n",
       "      <th>previous</th>\n",
       "    </tr>\n",
       "  </thead>\n",
       "  <tbody>\n",
       "    <tr>\n",
       "      <th>count</th>\n",
       "      <td>11162.000000</td>\n",
       "      <td>11162.000000</td>\n",
       "      <td>11162.000000</td>\n",
       "      <td>11162.000000</td>\n",
       "      <td>11162.000000</td>\n",
       "      <td>11162.000000</td>\n",
       "      <td>11162.000000</td>\n",
       "    </tr>\n",
       "    <tr>\n",
       "      <th>mean</th>\n",
       "      <td>41.231948</td>\n",
       "      <td>1528.538524</td>\n",
       "      <td>15.658036</td>\n",
       "      <td>371.993818</td>\n",
       "      <td>2.508421</td>\n",
       "      <td>51.330407</td>\n",
       "      <td>0.832557</td>\n",
       "    </tr>\n",
       "    <tr>\n",
       "      <th>std</th>\n",
       "      <td>11.913369</td>\n",
       "      <td>3225.413326</td>\n",
       "      <td>8.420740</td>\n",
       "      <td>347.128386</td>\n",
       "      <td>2.722077</td>\n",
       "      <td>108.758282</td>\n",
       "      <td>2.292007</td>\n",
       "    </tr>\n",
       "    <tr>\n",
       "      <th>min</th>\n",
       "      <td>18.000000</td>\n",
       "      <td>-6847.000000</td>\n",
       "      <td>1.000000</td>\n",
       "      <td>2.000000</td>\n",
       "      <td>1.000000</td>\n",
       "      <td>-1.000000</td>\n",
       "      <td>0.000000</td>\n",
       "    </tr>\n",
       "    <tr>\n",
       "      <th>25%</th>\n",
       "      <td>32.000000</td>\n",
       "      <td>122.000000</td>\n",
       "      <td>8.000000</td>\n",
       "      <td>138.000000</td>\n",
       "      <td>1.000000</td>\n",
       "      <td>-1.000000</td>\n",
       "      <td>0.000000</td>\n",
       "    </tr>\n",
       "    <tr>\n",
       "      <th>50%</th>\n",
       "      <td>39.000000</td>\n",
       "      <td>550.000000</td>\n",
       "      <td>15.000000</td>\n",
       "      <td>255.000000</td>\n",
       "      <td>2.000000</td>\n",
       "      <td>-1.000000</td>\n",
       "      <td>0.000000</td>\n",
       "    </tr>\n",
       "    <tr>\n",
       "      <th>75%</th>\n",
       "      <td>49.000000</td>\n",
       "      <td>1708.000000</td>\n",
       "      <td>22.000000</td>\n",
       "      <td>496.000000</td>\n",
       "      <td>3.000000</td>\n",
       "      <td>20.750000</td>\n",
       "      <td>1.000000</td>\n",
       "    </tr>\n",
       "    <tr>\n",
       "      <th>max</th>\n",
       "      <td>95.000000</td>\n",
       "      <td>81204.000000</td>\n",
       "      <td>31.000000</td>\n",
       "      <td>3881.000000</td>\n",
       "      <td>63.000000</td>\n",
       "      <td>854.000000</td>\n",
       "      <td>58.000000</td>\n",
       "    </tr>\n",
       "  </tbody>\n",
       "</table>\n",
       "</div>"
      ],
      "text/plain": [
       "                age       balance           day      duration      campaign  \\\n",
       "count  11162.000000  11162.000000  11162.000000  11162.000000  11162.000000   \n",
       "mean      41.231948   1528.538524     15.658036    371.993818      2.508421   \n",
       "std       11.913369   3225.413326      8.420740    347.128386      2.722077   \n",
       "min       18.000000  -6847.000000      1.000000      2.000000      1.000000   \n",
       "25%       32.000000    122.000000      8.000000    138.000000      1.000000   \n",
       "50%       39.000000    550.000000     15.000000    255.000000      2.000000   \n",
       "75%       49.000000   1708.000000     22.000000    496.000000      3.000000   \n",
       "max       95.000000  81204.000000     31.000000   3881.000000     63.000000   \n",
       "\n",
       "              pdays      previous  \n",
       "count  11162.000000  11162.000000  \n",
       "mean      51.330407      0.832557  \n",
       "std      108.758282      2.292007  \n",
       "min       -1.000000      0.000000  \n",
       "25%       -1.000000      0.000000  \n",
       "50%       -1.000000      0.000000  \n",
       "75%       20.750000      1.000000  \n",
       "max      854.000000     58.000000  "
      ]
     },
     "execution_count": 7,
     "metadata": {},
     "output_type": "execute_result"
    }
   ],
   "source": [
    "data.describe()"
   ]
  },
  {
   "cell_type": "markdown",
   "id": "8b7acda0-7124-4af6-872f-59a8bba43370",
   "metadata": {},
   "source": [
    "### Find numerical variables (continuous, discrete, target)"
   ]
  },
  {
   "cell_type": "code",
   "execution_count": 8,
   "id": "9be39018-2d71-4dbb-9873-079ad7205ca7",
   "metadata": {},
   "outputs": [
    {
     "name": "stdout",
     "output_type": "stream",
     "text": [
      "There are 7 numerical variables:\n"
     ]
    },
    {
     "data": {
      "text/plain": [
       "['age', 'balance', 'day', 'duration', 'campaign', 'pdays', 'previous']"
      ]
     },
     "execution_count": 8,
     "metadata": {},
     "output_type": "execute_result"
    }
   ],
   "source": [
    "numerical = [var for var in data.columns if data[var].dtype!='O']\n",
    "print('There are {} numerical variables:'.format(len(numerical)))\n",
    "numerical"
   ]
  },
  {
   "cell_type": "markdown",
   "id": "a033591f-191e-4e97-a0e1-e7f3335aa0ce",
   "metadata": {
    "tags": []
   },
   "source": [
    "### Find discrete variables\n",
    "\n",
    "We will select the ones that contain a finite and small number of distinct values from all the numerical ones:"
   ]
  },
  {
   "cell_type": "code",
   "execution_count": 9,
   "id": "294d83eb-91c3-4935-b976-df1c1ae204ee",
   "metadata": {},
   "outputs": [
    {
     "name": "stdout",
     "output_type": "stream",
     "text": [
      "\n",
      "There are 0 discrete variables\n"
     ]
    }
   ],
   "source": [
    "discrete = []\n",
    "\n",
    "for var in numerical:\n",
    "    if len(data[var].unique()) < 20:\n",
    "        print(var, 'values: ', data[var].unique())\n",
    "        discrete.append(var)\n",
    "print()\n",
    "print('There are {} discrete variables'.format(len(discrete)))"
   ]
  },
  {
   "cell_type": "markdown",
   "id": "0459b6cf-e0d5-4085-b5b5-9871a5091ef1",
   "metadata": {},
   "source": [
    "That means all our numerical variables are continuous, let's confirm that:"
   ]
  },
  {
   "cell_type": "markdown",
   "id": "07626ad4-ae19-4a23-b82f-ba42cbc0d853",
   "metadata": {},
   "source": [
    "### Continuous variables"
   ]
  },
  {
   "cell_type": "code",
   "execution_count": 10,
   "id": "28f45ae8-ee49-4cfd-a70f-d35d0ea96094",
   "metadata": {},
   "outputs": [
    {
     "name": "stdout",
     "output_type": "stream",
     "text": [
      "There are 7 numerical and continuous variables\n"
     ]
    },
    {
     "data": {
      "text/plain": [
       "['age', 'balance', 'day', 'duration', 'campaign', 'pdays', 'previous']"
      ]
     },
     "execution_count": 10,
     "metadata": {},
     "output_type": "execute_result"
    }
   ],
   "source": [
    "continuous = [var for var in numerical if var not in discrete and var not in ['deposit']]\n",
    "\n",
    "print('There are {} numerical and continuous variables'.format(len(continuous)))\n",
    "continuous"
   ]
  },
  {
   "cell_type": "markdown",
   "id": "c9e4b98a-5baa-4689-824e-41c2d1f2ba75",
   "metadata": {
    "tags": []
   },
   "source": [
    "### Find categorical variables "
   ]
  },
  {
   "cell_type": "code",
   "execution_count": 11,
   "id": "c04a1b50-60f9-491b-8afb-29c488501db7",
   "metadata": {},
   "outputs": [
    {
     "name": "stdout",
     "output_type": "stream",
     "text": [
      "There are 10 categorical variables:\n"
     ]
    },
    {
     "data": {
      "text/plain": [
       "['job',\n",
       " 'marital',\n",
       " 'education',\n",
       " 'default',\n",
       " 'housing',\n",
       " 'loan',\n",
       " 'contact',\n",
       " 'month',\n",
       " 'poutcome',\n",
       " 'deposit']"
      ]
     },
     "execution_count": 11,
     "metadata": {},
     "output_type": "execute_result"
    }
   ],
   "source": [
    "categorical = [var for var in data.columns if data[var].dtype=='O']  \n",
    "\n",
    "print('There are {} categorical variables:'.format(len(categorical)))\n",
    "categorical"
   ]
  },
  {
   "cell_type": "markdown",
   "id": "8c7e034c-9ad9-4029-b8e0-4996ae12cda7",
   "metadata": {},
   "source": [
    "Categorical variables inspection:"
   ]
  },
  {
   "cell_type": "code",
   "execution_count": 12,
   "id": "2f3bb07b-b3b1-41c6-a789-ea2613407495",
   "metadata": {},
   "outputs": [
    {
     "data": {
      "text/html": [
       "<div>\n",
       "<style scoped>\n",
       "    .dataframe tbody tr th:only-of-type {\n",
       "        vertical-align: middle;\n",
       "    }\n",
       "\n",
       "    .dataframe tbody tr th {\n",
       "        vertical-align: top;\n",
       "    }\n",
       "\n",
       "    .dataframe thead th {\n",
       "        text-align: right;\n",
       "    }\n",
       "</style>\n",
       "<table border=\"1\" class=\"dataframe\">\n",
       "  <thead>\n",
       "    <tr style=\"text-align: right;\">\n",
       "      <th></th>\n",
       "      <th>unique</th>\n",
       "    </tr>\n",
       "  </thead>\n",
       "  <tbody>\n",
       "    <tr>\n",
       "      <th>job</th>\n",
       "      <td>[admin., technician, services, management, retired, blue-collar, unemployed, entrepreneur, housemaid, unknown, self-employed, student]</td>\n",
       "    </tr>\n",
       "    <tr>\n",
       "      <th>marital</th>\n",
       "      <td>[married, single, divorced]</td>\n",
       "    </tr>\n",
       "    <tr>\n",
       "      <th>education</th>\n",
       "      <td>[secondary, tertiary, primary, unknown]</td>\n",
       "    </tr>\n",
       "    <tr>\n",
       "      <th>default</th>\n",
       "      <td>[no, yes]</td>\n",
       "    </tr>\n",
       "    <tr>\n",
       "      <th>housing</th>\n",
       "      <td>[yes, no]</td>\n",
       "    </tr>\n",
       "    <tr>\n",
       "      <th>loan</th>\n",
       "      <td>[no, yes]</td>\n",
       "    </tr>\n",
       "    <tr>\n",
       "      <th>contact</th>\n",
       "      <td>[unknown, cellular, telephone]</td>\n",
       "    </tr>\n",
       "    <tr>\n",
       "      <th>month</th>\n",
       "      <td>[may, jun, jul, aug, oct, nov, dec, jan, feb, mar, apr, sep]</td>\n",
       "    </tr>\n",
       "    <tr>\n",
       "      <th>poutcome</th>\n",
       "      <td>[unknown, other, failure, success]</td>\n",
       "    </tr>\n",
       "    <tr>\n",
       "      <th>deposit</th>\n",
       "      <td>[yes, no]</td>\n",
       "    </tr>\n",
       "  </tbody>\n",
       "</table>\n",
       "</div>"
      ],
      "text/plain": [
       "                                                                                                                                           unique\n",
       "job        [admin., technician, services, management, retired, blue-collar, unemployed, entrepreneur, housemaid, unknown, self-employed, student]\n",
       "marital    [married, single, divorced]                                                                                                           \n",
       "education  [secondary, tertiary, primary, unknown]                                                                                               \n",
       "default    [no, yes]                                                                                                                             \n",
       "housing    [yes, no]                                                                                                                             \n",
       "loan       [no, yes]                                                                                                                             \n",
       "contact    [unknown, cellular, telephone]                                                                                                        \n",
       "month      [may, jun, jul, aug, oct, nov, dec, jan, feb, mar, apr, sep]                                                                          \n",
       "poutcome   [unknown, other, failure, success]                                                                                                    \n",
       "deposit    [yes, no]                                                                                                                             "
      ]
     },
     "execution_count": 12,
     "metadata": {},
     "output_type": "execute_result"
    }
   ],
   "source": [
    "pd.set_option('display.max_colwidth', 0)\n",
    "data[categorical].agg(['unique']).transpose()"
   ]
  },
  {
   "cell_type": "markdown",
   "id": "f3e3a79a-78ff-423a-8528-2514b3766d90",
   "metadata": {},
   "source": [
    "Variable 'job' shows high cardinality."
   ]
  },
  {
   "cell_type": "markdown",
   "id": "95cdd7a4-8041-4c60-a68f-0a7715cb21b8",
   "metadata": {},
   "source": [
    "Let's resume our features types:\n",
    "\n",
    "    17 variables → 7 numerical → 7 continuous\n",
    "                               → 0 discrete\n",
    "                 \n",
    "                 → 10 categorical                        "
   ]
  },
  {
   "cell_type": "code",
   "execution_count": null,
   "id": "64f6bd49-b66d-4a7c-9a97-0e6ef6dec0f5",
   "metadata": {},
   "outputs": [],
   "source": []
  },
  {
   "cell_type": "code",
   "execution_count": null,
   "id": "07f950c9-05f4-44a8-9dec-ec600e20cdeb",
   "metadata": {},
   "outputs": [],
   "source": []
  }
 ],
 "metadata": {
  "kernelspec": {
   "display_name": "Python 3 (ipykernel)",
   "language": "python",
   "name": "python3"
  },
  "language_info": {
   "codemirror_mode": {
    "name": "ipython",
    "version": 3
   },
   "file_extension": ".py",
   "mimetype": "text/x-python",
   "name": "python",
   "nbconvert_exporter": "python",
   "pygments_lexer": "ipython3",
   "version": "3.11.3"
  }
 },
 "nbformat": 4,
 "nbformat_minor": 5
}
